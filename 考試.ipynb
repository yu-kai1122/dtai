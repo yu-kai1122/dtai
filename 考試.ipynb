{
 "cells": [
  {
   "cell_type": "code",
   "execution_count": 1,
   "metadata": {},
   "outputs": [
    {
     "name": "stdout",
     "output_type": "stream",
     "text": [
      "5\n"
     ]
    }
   ],
   "source": [
    "a, b, c = map(int, input(\"\").split())\n",
    "\n",
    "minimum_value = min(a, b, c)\n",
    "\n",
    "print( minimum_value)"
   ]
  },
  {
   "cell_type": "code",
   "execution_count": 2,
   "metadata": {},
   "outputs": [
    {
     "name": "stdout",
     "output_type": "stream",
     "text": [
      "21426429\n"
     ]
    }
   ],
   "source": [
    "n = int(input(\"\"))\n",
    "\n",
    "\n",
    "total_sum = 0\n",
    "\n",
    "\n",
    "for i in range(1, n + 1):\n",
    "    \n",
    "    if i % 3 == 0 or i % 7 == 0:\n",
    "        total_sum += i\n",
    "\n",
    "\n",
    "print( total_sum)"
   ]
  },
  {
   "cell_type": "code",
   "execution_count": 3,
   "metadata": {},
   "outputs": [
    {
     "name": "stdout",
     "output_type": "stream",
     "text": [
      "*\n",
      "**\n",
      "***\n",
      "****\n",
      "*****\n",
      "******\n",
      "*******\n",
      "********\n",
      "*********\n",
      "**********\n",
      "***********\n",
      "************\n",
      "*************\n"
     ]
    }
   ],
   "source": [
    "n = int(input(\"\"))\n",
    "\n",
    "for i in range(1, n + 1):\n",
    "    print('*' * i)"
   ]
  },
  {
   "cell_type": "code",
   "execution_count": 4,
   "metadata": {},
   "outputs": [
    {
     "name": "stdout",
     "output_type": "stream",
     "text": [
      "1\n",
      "12\n",
      "123\n",
      "1234\n",
      "12345\n",
      "123456\n",
      "1234567\n",
      "12345678\n",
      "123456789\n",
      "12345678910\n",
      "1234567891011\n",
      "123456789101112\n",
      "12345678910111213\n"
     ]
    }
   ],
   "source": [
    "n = int(input(\"\"))\n",
    "\n",
    "for i in range(1, n + 1):\n",
    "    for j in range(1, i + 1):\n",
    "        print(j, end='')\n",
    "    print()"
   ]
  },
  {
   "cell_type": "code",
   "execution_count": 5,
   "metadata": {},
   "outputs": [
    {
     "name": "stdout",
     "output_type": "stream",
     "text": [
      "Invalid\n"
     ]
    }
   ],
   "source": [
    "a, b, c = map(int, input(\"\").split())\n",
    "\n",
    "if a + b > c and a + c > b and b + c > a:\n",
    "    print(\"Valid\")\n",
    "else:\n",
    "    print(\"Invalid\")"
   ]
  },
  {
   "cell_type": "code",
   "execution_count": 7,
   "metadata": {},
   "outputs": [
    {
     "name": "stdout",
     "output_type": "stream",
     "text": [
      "2000  is leap year\n"
     ]
    }
   ],
   "source": [
    "year = int(input(\"\"))\n",
    "\n",
    "if (year % 4 == 0 and year % 100 != 0) or (year % 400 == 0):\n",
    "    print(year ,\"is leap year\")\n",
    "else:\n",
    "    print(year,\"is common year\")"
   ]
  },
  {
   "cell_type": "code",
   "execution_count": 10,
   "metadata": {},
   "outputs": [
    {
     "name": "stdout",
     "output_type": "stream",
     "text": [
      "1*1=1 1*2=2 1*3=3 1*4=4 1*5=5 1*6=6 1*7=7 1*8=8 1*9=9 \n",
      "2*1=2 2*2=4 2*3=6 2*4=8 2*5=10 2*6=12 2*7=14 2*8=16 2*9=18 \n",
      "3*1=3 3*2=6 3*3=9 3*4=12 3*5=15 3*6=18 3*7=21 3*8=24 3*9=27 \n",
      "4*1=4 4*2=8 4*3=12 4*4=16 4*5=20 4*6=24 4*7=28 4*8=32 4*9=36 \n",
      "5*1=5 5*2=10 5*3=15 5*4=20 5*5=25 5*6=30 5*7=35 5*8=40 5*9=45 \n",
      "6*1=6 6*2=12 6*3=18 6*4=24 6*5=30 6*6=36 6*7=42 6*8=48 6*9=54 \n",
      "7*1=7 7*2=14 7*3=21 7*4=28 7*5=35 7*6=42 7*7=49 7*8=56 7*9=63 \n",
      "8*1=8 8*2=16 8*3=24 8*4=32 8*5=40 8*6=48 8*7=56 8*8=64 8*9=72 \n",
      "9*1=9 9*2=18 9*3=27 9*4=36 9*5=45 9*6=54 9*7=63 9*8=72 9*9=81 \n"
     ]
    }
   ],
   "source": [
    "input_number = int(input(\"\"))\n",
    "\n",
    "for i in range(input_number, 10):\n",
    "    for j in range(1, 10):\n",
    "        print(f\"{i}*{j}={i*j}\", end=' ')\n",
    "    print()"
   ]
  },
  {
   "cell_type": "code",
   "execution_count": 11,
   "metadata": {},
   "outputs": [
    {
     "name": "stdout",
     "output_type": "stream",
     "text": [
      "Ans 9874\n"
     ]
    }
   ],
   "source": [
    "a = input(\"\")\n",
    "print(\"Ans {}\".format(a))"
   ]
  },
  {
   "cell_type": "code",
   "execution_count": 12,
   "metadata": {},
   "outputs": [
    {
     "name": "stdout",
     "output_type": "stream",
     "text": [
      "45\n"
     ]
    }
   ],
   "source": [
    "a = input()\n",
    "\n",
    "b = map(int, a.split())\n",
    "\n",
    "c = sum(b)\n",
    "\n",
    "print(c)\n"
   ]
  },
  {
   "cell_type": "code",
   "execution_count": 13,
   "metadata": {},
   "outputs": [
    {
     "name": "stdout",
     "output_type": "stream",
     "text": [
      "16\n"
     ]
    }
   ],
   "source": [
    "a = input(\"\")\n",
    "print(len(a))"
   ]
  },
  {
   "cell_type": "code",
   "execution_count": 15,
   "metadata": {},
   "outputs": [
    {
     "name": "stdout",
     "output_type": "stream",
     "text": [
      "120 is error\n"
     ]
    }
   ],
   "source": [
    "g =int(input(\"\"))\n",
    "if(90 <= g <= 100):\n",
    "    print(g,\"is A\")\n",
    "elif(80<= g <= 89):\n",
    "    print(g,\"is B\")\n",
    "elif(70 <= g <= 79):\n",
    "    print(g,'is C')\n",
    "elif(60 <= g <= 69):\n",
    "    print(g,'is D')\n",
    "elif(0<= g <= 59):\n",
    "    print(g,\"is E\")\n",
    "else:\n",
    "    print(g,\"is error\")"
   ]
  },
  {
   "cell_type": "code",
   "execution_count": 20,
   "metadata": {},
   "outputs": [
    {
     "name": "stdout",
     "output_type": "stream",
     "text": [
      "90% discount is 27000.9\n"
     ]
    }
   ],
   "source": [
    "g =int(input(\"\"))\n",
    "if( g >= 100000):\n",
    "    a = g * 0.8\n",
    "    print(\"80% discount is\" ,a)\n",
    "elif(50000<= g <= 99999):\n",
    "    a = g * 0.85\n",
    "    print(\"85% discount is\" ,a)\n",
    "elif(30000 <= g <= 49999):\n",
    "    a = g * 0.9\n",
    "    print(\"90% discount is\" ,a)\n",
    "elif(10000 <= g <= 29999):\n",
    "    a = g * 0.95\n",
    "    print(\"95% discount is\" ,a)\n",
    "else:\n",
    "    print(\"no discount is\",g)"
   ]
  },
  {
   "cell_type": "code",
   "execution_count": 21,
   "metadata": {},
   "outputs": [
    {
     "name": "stdout",
     "output_type": "stream",
     "text": [
      "1,2,3,4,5,6,7,8,9,"
     ]
    }
   ],
   "source": [
    "a = input(\"\")\n",
    "start, end, step = map(int, a.split())\n",
    "\n",
    "for i in range(start, end, step):\n",
    "    print(i , end=\",\")"
   ]
  },
  {
   "cell_type": "code",
   "execution_count": 22,
   "metadata": {},
   "outputs": [
    {
     "name": "stdout",
     "output_type": "stream",
     "text": [
      "[8, 7, 6, 5, 4]\n"
     ]
    }
   ],
   "source": [
    "a = input(\"\")\n",
    "start, end, step = map(int, a.split())\n",
    "\n",
    "number_list = list(range(start, end, step))\n",
    "\n",
    "print(number_list)"
   ]
  },
  {
   "cell_type": "code",
   "execution_count": 27,
   "metadata": {},
   "outputs": [
    {
     "name": "stdout",
     "output_type": "stream",
     "text": [
      "park time: 11h:9m\n",
      "pay: 300 money\n"
     ]
    }
   ],
   "source": [
    "m = int(input(\"\"))\n",
    "\n",
    "hours = m// 60\n",
    "remaining_minutes = m % 60\n",
    "\n",
    "if m<= 60:\n",
    "    fee = 20\n",
    "else:\n",
    "    fee = hours * 40 + (20 if remaining_minutes > 0 else 0)\n",
    "\n",
    "if fee > 300:\n",
    "    fee = 300\n",
    "\n",
    "print(f\"park time:{hours}h:{remaining_minutes}m\")\n",
    "print(f\"pay:{fee} money\")"
   ]
  },
  {
   "cell_type": "code",
   "execution_count": 29,
   "metadata": {},
   "outputs": [
    {
     "name": "stdout",
     "output_type": "stream",
     "text": [
      "153,370,371,407,\n"
     ]
    }
   ],
   "source": [
    "a, b = map(int, input(\"\").split())\n",
    "\n",
    "c = []\n",
    "\n",
    "for i in range(a, b + 1):\n",
    "    if 100 <= i <= 999:\n",
    "        hundreds = i // 100\n",
    "        tens = (i // 10) % 10\n",
    "        ones = i % 10\n",
    "        sum_of_cubes = hundreds**3 + tens**3 + ones**3\n",
    "        if sum_of_cubes == i:\n",
    "            c.append(i)\n",
    "print(\",\".join(map(str, c)) + \",\")"
   ]
  },
  {
   "cell_type": "code",
   "execution_count": 30,
   "metadata": {},
   "outputs": [
    {
     "name": "stdout",
     "output_type": "stream",
     "text": [
      "t=9.0 b=14.0 h=8.2 area=94.3\n"
     ]
    }
   ],
   "source": [
    "t = float(input())\n",
    "b = float(input())\n",
    "h = float(input())\n",
    "\n",
    "area = (t + b) * h / 2\n",
    "\n",
    "print(f\"t={t} b={b} h={h} area={area}\")"
   ]
  },
  {
   "cell_type": "code",
   "execution_count": 33,
   "metadata": {},
   "outputs": [
    {
     "name": "stdout",
     "output_type": "stream",
     "text": [
      "2.5\n"
     ]
    }
   ],
   "source": [
    "a = float(input())\n",
    "b = float(input())\n",
    "\n",
    "c = a % b\n",
    "\n",
    "print(c)"
   ]
  },
  {
   "cell_type": "code",
   "execution_count": 34,
   "metadata": {},
   "outputs": [
    {
     "name": "stdout",
     "output_type": "stream",
     "text": [
      "13.333333333333334\n"
     ]
    }
   ],
   "source": [
    "a = float(input())\n",
    "b = float(input())\n",
    "\n",
    "c = a / b\n",
    "\n",
    "print(c)"
   ]
  },
  {
   "cell_type": "code",
   "execution_count": null,
   "metadata": {},
   "outputs": [],
   "source": []
  }
 ],
 "metadata": {
  "kernelspec": {
   "display_name": "Python 3",
   "language": "python",
   "name": "python3"
  },
  "language_info": {
   "codemirror_mode": {
    "name": "ipython",
    "version": 3
   },
   "file_extension": ".py",
   "mimetype": "text/x-python",
   "name": "python",
   "nbconvert_exporter": "python",
   "pygments_lexer": "ipython3",
   "version": "3.12.4"
  }
 },
 "nbformat": 4,
 "nbformat_minor": 2
}
