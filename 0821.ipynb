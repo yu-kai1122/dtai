{
 "cells": [
  {
   "cell_type": "code",
   "execution_count": 1,
   "metadata": {},
   "outputs": [
    {
     "name": "stdout",
     "output_type": "stream",
     "text": [
      "0821\n"
     ]
    }
   ],
   "source": [
    "print(\"0821\")"
   ]
  },
  {
   "cell_type": "code",
   "execution_count": null,
   "metadata": {},
   "outputs": [],
   "source": [
    "n = int(input(\"\"))\n",
    "\n",
    "factors = []\n",
    "\n",
    "for i in range(1, n + 1):\n",
    "    if n % i == 0:\n",
    "        factors.append(i)\n",
    "\n",
    "print(' '.join(map(str, factors)))"
   ]
  },
  {
   "cell_type": "code",
   "execution_count": 3,
   "metadata": {},
   "outputs": [
    {
     "name": "stdout",
     "output_type": "stream",
     "text": [
      "84\n"
     ]
    }
   ],
   "source": [
    "\n",
    "n = int(input(\"\"))\n",
    "\n",
    "\n",
    "total_sum = 0\n",
    "\n",
    "\n",
    "for i in range(1, n + 1):\n",
    "    \n",
    "    if i % 3 == 0 or i % 7 == 0:\n",
    "        total_sum += i\n",
    "\n",
    "\n",
    "print( total_sum)\n",
    "\n"
   ]
  },
  {
   "cell_type": "code",
   "execution_count": 4,
   "metadata": {},
   "outputs": [
    {
     "name": "stdout",
     "output_type": "stream",
     "text": [
      "*\n",
      "**\n",
      "***\n",
      "****\n",
      "*****\n"
     ]
    }
   ],
   "source": [
    "n = int(input(\"\"))\n",
    "for i in range(1, n + 1):\n",
    "    print('*' * i)"
   ]
  },
  {
   "cell_type": "code",
   "execution_count": 8,
   "metadata": {},
   "outputs": [
    {
     "name": "stdout",
     "output_type": "stream",
     "text": [
      "1\n",
      "12\n",
      "123\n",
      "1234\n",
      "12345\n",
      "123456\n",
      "1234567\n",
      "12345678\n",
      "123456789\n",
      "12345678910\n",
      "1234567891011\n",
      "123456789101112\n",
      "12345678910111213\n"
     ]
    }
   ],
   "source": [
    "n = int(input(\"\"))\n",
    "\n",
    "for i in range(1, n + 1):\n",
    "    for j in range(1, i + 1):\n",
    "        print(j, end='')\n",
    "    print()"
   ]
  },
  {
   "cell_type": "code",
   "execution_count": 9,
   "metadata": {},
   "outputs": [
    {
     "name": "stdout",
     "output_type": "stream",
     "text": [
      "1\n"
     ]
    }
   ],
   "source": [
    "import math\n",
    "\n",
    "a, b = map(int, input(\"\").split())\n",
    "\n",
    "gcd = math.gcd(a, b)\n",
    "\n",
    "print(gcd)"
   ]
  },
  {
   "cell_type": "code",
   "execution_count": null,
   "metadata": {},
   "outputs": [],
   "source": [
    "a, b, c = map(int, input(\"請輸入三個整數，用空格分隔：\").split())\n",
    "\n",
    "minimum_value = min(a, b, c)\n",
    "\n",
    "print(\"最小值是：\", minimum_value)"
   ]
  },
  {
   "cell_type": "code",
   "execution_count": null,
   "metadata": {},
   "outputs": [],
   "source": [
    "import math\n",
    "\n",
    "a, b = map(int, input(\"請輸入兩個整數，用空格分隔：\").split())\n",
    "\n",
    "gcd = math.gcd(a, b)\n",
    "\n",
    "lcm = abs(a * b) // gcd\n",
    "\n",
    "print(\"最小公倍數是：\", lcm)\n"
   ]
  },
  {
   "cell_type": "code",
   "execution_count": 10,
   "metadata": {},
   "outputs": [
    {
     "name": "stdout",
     "output_type": "stream",
     "text": [
      "轉換後的字串是： ApPlE\n"
     ]
    }
   ],
   "source": [
    "input_str = input(\"請輸入一個字串：\")\n",
    "\n",
    "result = \"\"\n",
    "\n",
    "for index, char in enumerate(input_str):\n",
    "    if index % 2 == 0:\n",
    "        result += char.upper()\n",
    "    else:\n",
    "        result += char.lower()\n",
    "print(\"轉換後的字串是：\", result)"
   ]
  },
  {
   "cell_type": "code",
   "execution_count": 11,
   "metadata": {},
   "outputs": [
    {
     "name": "stdout",
     "output_type": "stream",
     "text": [
      "TKU cake\n"
     ]
    }
   ],
   "source": [
    "a =input(\"\")\n",
    "print(\"TKU {}\".format(a))"
   ]
  },
  {
   "cell_type": "code",
   "execution_count": null,
   "metadata": {},
   "outputs": [],
   "source": [
    "a, b, c = map(int, input(\"請輸入三個整數，用空格分隔：\").split())\n",
    "\n",
    "if a + b > c and a + c > b and b + c > a:\n",
    "    print(\"Valid\")\n",
    "else:\n",
    "    print(\"InValid\")"
   ]
  },
  {
   "cell_type": "code",
   "execution_count": 17,
   "metadata": {},
   "outputs": [
    {
     "name": "stdout",
     "output_type": "stream",
     "text": [
      "153,370,371,407,\n"
     ]
    }
   ],
   "source": [
    "start, end = map(int, input(\"請輸入起始值和終止值，用空格分隔：\").split())\n",
    "\n",
    "narcissistic_numbers = []\n",
    "\n",
    "for number in range(start, end + 1):\n",
    "    if 100 <= number <= 999:\n",
    "        hundreds = number // 100\n",
    "        tens = (number // 10) % 10\n",
    "        ones = number % 10\n",
    "        sum_of_cubes = hundreds**3 + tens**3 + ones**3\n",
    "        if sum_of_cubes == number:\n",
    "            narcissistic_numbers.append(number)\n",
    "print(\",\".join(map(str, narcissistic_numbers)) + \",\")"
   ]
  },
  {
   "cell_type": "code",
   "execution_count": null,
   "metadata": {},
   "outputs": [],
   "source": [
    "top_base = float(input(\"請輸入上底：\"))\n",
    "bottom_base = float(input(\"請輸入下底：\"))\n",
    "height = float(input(\"請輸入高度：\"))\n",
    "\n",
    "area = (top_base + bottom_base) * height / 2\n",
    "\n",
    "print(\"梯形的面積是：\", area)"
   ]
  },
  {
   "cell_type": "code",
   "execution_count": null,
   "metadata": {},
   "outputs": [],
   "source": [
    "input_str = input(\"請輸入一個字串：\")\n",
    "\n",
    "length = len(input_str)\n",
    "\n",
    "print(\"字串長度是：%.2f\" % length)"
   ]
  }
 ],
 "metadata": {
  "kernelspec": {
   "display_name": "Python 3",
   "language": "python",
   "name": "python3"
  },
  "language_info": {
   "codemirror_mode": {
    "name": "ipython",
    "version": 3
   },
   "file_extension": ".py",
   "mimetype": "text/x-python",
   "name": "python",
   "nbconvert_exporter": "python",
   "pygments_lexer": "ipython3",
   "version": "3.12.4"
  }
 },
 "nbformat": 4,
 "nbformat_minor": 2
}
