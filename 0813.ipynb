{
 "cells": [
  {
   "cell_type": "code",
   "execution_count": 1,
   "metadata": {},
   "outputs": [
    {
     "name": "stdout",
     "output_type": "stream",
     "text": [
      "0813\n"
     ]
    }
   ],
   "source": [
    "print(\"0813\")"
   ]
  },
  {
   "cell_type": "code",
   "execution_count": 8,
   "metadata": {},
   "outputs": [
    {
     "name": "stdout",
     "output_type": "stream",
     "text": [
      "密碼錯誤\n"
     ]
    }
   ],
   "source": [
    "n = int(input(\"請輸入密碼\"))\n",
    "if(n == 1234):\n",
    "    print(\"歡迎光臨\")\n",
    "else:\n",
    "    print(\"密碼錯誤\")"
   ]
  },
  {
   "cell_type": "code",
   "execution_count": 9,
   "metadata": {},
   "outputs": [
    {
     "name": "stdout",
     "output_type": "stream",
     "text": [
      "不用帶傘\n"
     ]
    }
   ],
   "source": [
    "rain = input(\"今天會下雨嗎?\")\n",
    "if (rain == \"y\" or rain == \"Y\"):\n",
    "    print(\"出門記得帶傘\")\n",
    "else:\n",
    "    print(\"不用帶傘\")"
   ]
  },
  {
   "cell_type": "code",
   "execution_count": 12,
   "metadata": {},
   "outputs": [
    {
     "name": "stdout",
     "output_type": "stream",
     "text": [
      "50 為偶數\n"
     ]
    }
   ],
   "source": [
    "n = int(input(\"請輸入數字\"))\n",
    "if(n % 2 == 0):\n",
    "    print(n , \"為偶數\")\n",
    "else:\n",
    "    print(n ,\"為奇數\")"
   ]
  },
  {
   "cell_type": "code",
   "execution_count": 18,
   "metadata": {},
   "outputs": [
    {
     "name": "stdout",
     "output_type": "stream",
     "text": [
      "體溫異常，請重新測量\n"
     ]
    }
   ],
   "source": [
    "c =float(input(\"請輸入體溫\"))\n",
    "if(c >= 37.5):\n",
    "    print(\"體溫過高\")\n",
    "elif(37.0<= c <= 37.4):\n",
    "    print(\"體溫略高\")\n",
    "elif(34.0<= c <= 36.9):\n",
    "    print('體溫正常')\n",
    "else:\n",
    "    print(\"體溫異常，請重新測量\")"
   ]
  },
  {
   "cell_type": "code",
   "execution_count": 22,
   "metadata": {},
   "outputs": [
    {
     "name": "stdout",
     "output_type": "stream",
     "text": [
      "E\n"
     ]
    }
   ],
   "source": [
    "g =float(input(\"請輸入成績\"))\n",
    "if(90 <= g <= 100):\n",
    "    print(\"A\")\n",
    "elif(80<= g <= 89.9):\n",
    "    print(\"B\")\n",
    "elif(70 <= g <= 79.9):\n",
    "    print('C')\n",
    "elif(60 <= g <= 69.9):\n",
    "    print('D')\n",
    "else:\n",
    "    print(\"E\")"
   ]
  },
  {
   "cell_type": "code",
   "execution_count": 28,
   "metadata": {},
   "outputs": [
    {
     "name": "stdout",
     "output_type": "stream",
     "text": [
      "1200.0\n"
     ]
    }
   ],
   "source": [
    "t = int(input(\"請輸入購物車總額\"))\n",
    "if(t >= 1000):\n",
    "    total =  t * 0.8\n",
    "    print(total)\n",
    "elif(500 <= t < 1000):\n",
    "    total = t * 0.9\n",
    "    print(total)\n",
    "else:\n",
    "    print(t)"
   ]
  },
  {
   "cell_type": "code",
   "execution_count": 32,
   "metadata": {},
   "outputs": [
    {
     "name": "stdout",
     "output_type": "stream",
     "text": [
      "需要立即加油！\n"
     ]
    }
   ],
   "source": [
    "f =int(input(\"請輸入剩餘油量\"))\n",
    "if(f < 5):\n",
    "    print(\"需要立即加油！\")\n",
    "elif(5<= f <= 10):\n",
    "    print(\"油量不足，建議加油\")\n",
    "else\n",
    "    print(\"油量充足\")"
   ]
  },
  {
   "cell_type": "code",
   "execution_count": 37,
   "metadata": {},
   "outputs": [
    {
     "name": "stdout",
     "output_type": "stream",
     "text": [
      "1140\n"
     ]
    }
   ],
   "source": [
    "a = int(input(\"請輸入轉帳金額\"))\n",
    "if(a < 1000):\n",
    "    amount =  a - 150\n",
    "    print(amount)\n",
    "elif(1000 <= a < 5000):\n",
    "    amount = a - 100\n",
    "    print(amount)\n",
    "elif(5000 <= a < 10000):\n",
    "    amount = a - 50\n",
    "    print(amount)\n",
    "else:\n",
    "    print(a)"
   ]
  },
  {
   "cell_type": "code",
   "execution_count": 39,
   "metadata": {},
   "outputs": [],
   "source": [
    "c = range(3, 8, 1)  \n",
    "d = range(3, 8, 2)  \n",
    "e = range(8, 3, -1)"
   ]
  },
  {
   "cell_type": "code",
   "execution_count": 42,
   "metadata": {},
   "outputs": [
    {
     "name": "stdout",
     "output_type": "stream",
     "text": [
      "[3, 4, 5, 6, 7]\n",
      "[3, 5, 7]\n",
      "[8, 7, 6, 5, 4]\n"
     ]
    }
   ],
   "source": [
    "print(list(c))\n",
    "print(list(d))\n",
    "print(list(e))"
   ]
  },
  {
   "cell_type": "code",
   "execution_count": 44,
   "metadata": {},
   "outputs": [
    {
     "name": "stdout",
     "output_type": "stream",
     "text": [
      "0\n",
      "1\n",
      "2\n",
      "3\n",
      "4\n"
     ]
    }
   ],
   "source": [
    "for i in range(5):\n",
    "    print(i)"
   ]
  },
  {
   "cell_type": "code",
   "execution_count": 51,
   "metadata": {},
   "outputs": [
    {
     "name": "stdout",
     "output_type": "stream",
     "text": [
      "[0, 1, 2, 3, 4, 5, 6, 7, 8]\n",
      "[1, 2, 3, 4, 5, 6, 7, 8, 9]\n",
      "[1, 3, 5, 7, 9]\n",
      "[10, 8, 6, 4, 2]\n"
     ]
    }
   ],
   "source": [
    "a = range(0,9,1)\n",
    "b = range(1,10,1)\n",
    "c = range(1,11,2)\n",
    "d = range(10,0,-2)\n",
    "for i in a,b,c,d:\n",
    "    print(list(i))"
   ]
  },
  {
   "cell_type": "code",
   "execution_count": 54,
   "metadata": {},
   "outputs": [
    {
     "name": "stdout",
     "output_type": "stream",
     "text": [
      "0,1,2,"
     ]
    }
   ],
   "source": [
    "for n in range(3):\n",
    "    print(n, end=\",\")"
   ]
  },
  {
   "cell_type": "code",
   "execution_count": 58,
   "metadata": {},
   "outputs": [
    {
     "name": "stdout",
     "output_type": "stream",
     "text": [
      "1 2 3 4 5 6 7 8 9 10 11 12 13 14 15 "
     ]
    }
   ],
   "source": [
    "a = int(input(\"請輸入一個正整數\"))\n",
    "for a in range(1 , a+1 , 1):\n",
    "    print(a, end=\" \")"
   ]
  },
  {
   "cell_type": "code",
   "execution_count": 61,
   "metadata": {},
   "outputs": [
    {
     "name": "stdout",
     "output_type": "stream",
     "text": [
      "3\n"
     ]
    }
   ],
   "source": [
    "sum = 0 \n",
    "for n in range(3):\n",
    "     sum = sum+n \n",
    "print(sum) \n"
   ]
  },
  {
   "cell_type": "code",
   "execution_count": 101,
   "metadata": {},
   "outputs": [
    {
     "name": "stdout",
     "output_type": "stream",
     "text": [
      "1到 0 的整數合為 10\n",
      "1到 1 的整數合為 11\n",
      "1到 2 的整數合為 12\n",
      "1到 3 的整數合為 13\n",
      "1到 4 的整數合為 14\n",
      "1到 5 的整數合為 15\n",
      "1到 6 的整數合為 16\n",
      "1到 7 的整數合為 17\n",
      "1到 8 的整數合為 18\n",
      "1到 9 的整數合為 19\n"
     ]
    }
   ],
   "source": [
    "a = int(input(\"請輸入一個正整數\"))\n",
    "for n in range(a):\n",
    "     b = a + n \n",
    "     print(\"1到\" , n , \"的整數合為\" , b)\n"
   ]
  },
  {
   "cell_type": "code",
   "execution_count": 103,
   "metadata": {},
   "outputs": [
    {
     "name": "stdout",
     "output_type": "stream",
     "text": [
      "2550\n"
     ]
    }
   ],
   "source": [
    "sum = 0\n",
    "for n in range(0,101,2):\n",
    "    sum=sum+n\n",
    "print(sum)"
   ]
  },
  {
   "cell_type": "code",
   "execution_count": 109,
   "metadata": {},
   "outputs": [
    {
     "name": "stdout",
     "output_type": "stream",
     "text": [
      "10\n",
      "9\n",
      "8\n",
      "7\n",
      "6\n",
      "5\n",
      "4\n",
      "3\n",
      "2\n",
      "1\n",
      "倒數結束！\n"
     ]
    }
   ],
   "source": [
    "for n in range(10,0,-1):\n",
    "    print(n)\n",
    "print(\"倒數結束！\")"
   ]
  },
  {
   "cell_type": "code",
   "execution_count": 113,
   "metadata": {},
   "outputs": [
    {
     "name": "stdout",
     "output_type": "stream",
     "text": [
      "1\n",
      "4\n",
      "9\n",
      "16\n",
      "25\n",
      "36\n",
      "49\n",
      "64\n",
      "81\n",
      "100\n"
     ]
    }
   ],
   "source": [
    "for n in range(1,11,1):\n",
    "    a=n*n\n",
    "    print(a)"
   ]
  },
  {
   "cell_type": "code",
   "execution_count": 114,
   "metadata": {},
   "outputs": [
    {
     "name": "stdout",
     "output_type": "stream",
     "text": [
      "3\n",
      "7\n",
      "11\n",
      "15\n",
      "19\n",
      "23\n",
      "27\n"
     ]
    }
   ],
   "source": [
    "for n in range(3,30,4):\n",
    "    print(n)"
   ]
  },
  {
   "cell_type": "code",
   "execution_count": 118,
   "metadata": {},
   "outputs": [
    {
     "name": "stdout",
     "output_type": "stream",
     "text": [
      "26\n",
      "27\n",
      "28\n",
      "29\n",
      "30\n",
      "31\n",
      "32\n",
      "33\n",
      "34\n",
      "35\n",
      "36\n",
      "37\n",
      "38\n",
      "39\n",
      "40\n",
      "41\n",
      "42\n",
      "43\n",
      "44\n",
      "45\n",
      "46\n",
      "47\n",
      "48\n",
      "49\n",
      "50\n"
     ]
    }
   ],
   "source": [
    "a = int(input(\"請輸入範圍內最大值\"))\n",
    "b = int(input(\"請輸入範圍內最小值\"))\n",
    "for n in range(b,a+1,1):\n",
    "   if (n > 25):\n",
    "        print(n)"
   ]
  },
  {
   "cell_type": "code",
   "execution_count": null,
   "metadata": {},
   "outputs": [],
   "source": []
  }
 ],
 "metadata": {
  "kernelspec": {
   "display_name": "Python 3",
   "language": "python",
   "name": "python3"
  },
  "language_info": {
   "codemirror_mode": {
    "name": "ipython",
    "version": 3
   },
   "file_extension": ".py",
   "mimetype": "text/x-python",
   "name": "python",
   "nbconvert_exporter": "python",
   "pygments_lexer": "ipython3",
   "version": "3.12.4"
  }
 },
 "nbformat": 4,
 "nbformat_minor": 2
}
