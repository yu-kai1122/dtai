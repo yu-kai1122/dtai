{
 "cells": [
  {
   "cell_type": "code",
   "execution_count": 1,
   "metadata": {},
   "outputs": [
    {
     "name": "stdout",
     "output_type": "stream",
     "text": [
      "0813\n"
     ]
    }
   ],
   "source": [
    "print(\"0813\")"
   ]
  },
  {
   "cell_type": "code",
   "execution_count": 8,
   "metadata": {},
   "outputs": [
    {
     "name": "stdout",
     "output_type": "stream",
     "text": [
      "密碼錯誤\n"
     ]
    }
   ],
   "source": [
    "n = int(input(\"請輸入密碼\"))\n",
    "if(n == 1234):\n",
    "    print(\"歡迎光臨\")\n",
    "else:\n",
    "    print(\"密碼錯誤\")"
   ]
  },
  {
   "cell_type": "code",
   "execution_count": 9,
   "metadata": {},
   "outputs": [
    {
     "name": "stdout",
     "output_type": "stream",
     "text": [
      "不用帶傘\n"
     ]
    }
   ],
   "source": [
    "rain = input(\"今天會下雨嗎?\")\n",
    "if (rain == \"y\" or rain == \"Y\"):\n",
    "    print(\"出門記得帶傘\")\n",
    "else:\n",
    "    print(\"不用帶傘\")"
   ]
  },
  {
   "cell_type": "code",
   "execution_count": 12,
   "metadata": {},
   "outputs": [
    {
     "name": "stdout",
     "output_type": "stream",
     "text": [
      "50 為偶數\n"
     ]
    }
   ],
   "source": [
    "n = int(input(\"請輸入數字\"))\n",
    "if(n % 2 == 0):\n",
    "    print(n , \"為偶數\")\n",
    "else:\n",
    "    print(n ,\"為奇數\")"
   ]
  },
  {
   "cell_type": "code",
   "execution_count": 18,
   "metadata": {},
   "outputs": [
    {
     "name": "stdout",
     "output_type": "stream",
     "text": [
      "體溫異常，請重新測量\n"
     ]
    }
   ],
   "source": [
    "c =float(input(\"請輸入體溫\"))\n",
    "if(c >= 37.5):\n",
    "    print(\"體溫過高\")\n",
    "elif(37.0<= c <= 37.4):\n",
    "    print(\"體溫略高\")\n",
    "elif(34.0<= c <= 36.9):\n",
    "    print('體溫正常')\n",
    "else:\n",
    "    print(\"體溫異常，請重新測量\")"
   ]
  },
  {
   "cell_type": "code",
   "execution_count": 22,
   "metadata": {},
   "outputs": [
    {
     "name": "stdout",
     "output_type": "stream",
     "text": [
      "E\n"
     ]
    }
   ],
   "source": [
    "g =float(input(\"請輸入成績\"))\n",
    "if(90 <= g <= 100):\n",
    "    print(\"A\")\n",
    "elif(80<= g <= 89.9):\n",
    "    print(\"B\")\n",
    "elif(70 <= g <= 79.9):\n",
    "    print('C')\n",
    "elif(60 <= g <= 69.9):\n",
    "    print('D')\n",
    "else:\n",
    "    print(\"E\")"
   ]
  },
  {
   "cell_type": "code",
   "execution_count": 28,
   "metadata": {},
   "outputs": [
    {
     "name": "stdout",
     "output_type": "stream",
     "text": [
      "1200.0\n"
     ]
    }
   ],
   "source": [
    "t = int(input(\"請輸入購物車總額\"))\n",
    "if(t >= 1000):\n",
    "    total =  t * 0.8\n",
    "    print(total)\n",
    "elif(500 <= t < 1000):\n",
    "    total = t * 0.9\n",
    "    print(total)\n",
    "else:\n",
    "    print(t)"
   ]
  },
  {
   "cell_type": "code",
   "execution_count": 32,
   "metadata": {},
   "outputs": [
    {
     "name": "stdout",
     "output_type": "stream",
     "text": [
      "需要立即加油！\n"
     ]
    }
   ],
   "source": [
    "f =int(input(\"請輸入剩餘油量\"))\n",
    "if(f < 5):\n",
    "    print(\"需要立即加油！\")\n",
    "elif(5<= f <= 10):\n",
    "    print(\"油量不足，建議加油\")\n",
    "else\n",
    "    print(\"油量充足\")"
   ]
  },
  {
   "cell_type": "code",
   "execution_count": 37,
   "metadata": {},
   "outputs": [
    {
     "name": "stdout",
     "output_type": "stream",
     "text": [
      "1140\n"
     ]
    }
   ],
   "source": [
    "a = int(input(\"請輸入轉帳金額\"))\n",
    "if(a < 1000):\n",
    "    amount =  a - 150\n",
    "    print(amount)\n",
    "elif(1000 <= a < 5000):\n",
    "    amount = a - 100\n",
    "    print(amount)\n",
    "elif(5000 <= a < 10000):\n",
    "    amount = a - 50\n",
    "    print(amount)\n",
    "else:\n",
    "    print(a)"
   ]
  },
  {
   "cell_type": "code",
   "execution_count": null,
   "metadata": {},
   "outputs": [],
   "source": []
  }
 ],
 "metadata": {
  "kernelspec": {
   "display_name": "Python 3",
   "language": "python",
   "name": "python3"
  },
  "language_info": {
   "codemirror_mode": {
    "name": "ipython",
    "version": 3
   },
   "file_extension": ".py",
   "mimetype": "text/x-python",
   "name": "python",
   "nbconvert_exporter": "python",
   "pygments_lexer": "ipython3",
   "version": "3.12.4"
  }
 },
 "nbformat": 4,
 "nbformat_minor": 2
}
