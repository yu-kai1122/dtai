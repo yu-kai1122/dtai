{
 "cells": [
  {
   "cell_type": "code",
   "execution_count": 1,
   "metadata": {},
   "outputs": [
    {
     "name": "stdout",
     "output_type": "stream",
     "text": [
      "0820\n"
     ]
    }
   ],
   "source": [
    "print(\"0820\")"
   ]
  },
  {
   "cell_type": "code",
   "execution_count": 71,
   "metadata": {},
   "outputs": [
    {
     "name": "stdout",
     "output_type": "stream",
     "text": [
      "yukai\n",
      "5 letters\n"
     ]
    }
   ],
   "source": [
    "a = input(\"請輸入字串：\")\n",
    "\n",
    "print(\"{}\".format(a))\n",
    "print(\"{} letters\".format(len(a)))"
   ]
  },
  {
   "cell_type": "code",
   "execution_count": 27,
   "metadata": {},
   "outputs": [
    {
     "name": "stdout",
     "output_type": "stream",
     "text": [
      "國文成績 85\n",
      "英文成績 79\n",
      "數學成績 93\n"
     ]
    }
   ],
   "source": [
    "list1 = (85,79,93)\n",
    "print(\"國文成績\" , list1[0])\n",
    "print(\"英文成績\" , list1[1])\n",
    "print(\"數學成績\" , list1[2])"
   ]
  },
  {
   "cell_type": "code",
   "execution_count": 42,
   "metadata": {},
   "outputs": [
    {
     "name": "stdout",
     "output_type": "stream",
     "text": [
      "24.41\n"
     ]
    }
   ],
   "source": [
    "a=float(input(\"\"))\n",
    "b=float(input(\"\"))\n",
    "bmi=b/(a)**2\n",
    "print(round(bmi,2))"
   ]
  },
  {
   "cell_type": "code",
   "execution_count": 44,
   "metadata": {},
   "outputs": [
    {
     "name": "stdout",
     "output_type": "stream",
     "text": [
      "123\n",
      "apple\n",
      "True\n"
     ]
    }
   ],
   "source": [
    "list1 = [123,\"apple\",True]\n",
    "for a in list1:\n",
    "    print(a , sep=\"\\n\")\n"
   ]
  },
  {
   "cell_type": "code",
   "execution_count": 45,
   "metadata": {},
   "outputs": [
    {
     "name": "stdout",
     "output_type": "stream",
     "text": [
      "85\n",
      "79\n",
      "93\n"
     ]
    }
   ],
   "source": [
    "scores = [85,79,93]\n",
    "for i in range(len(scores)):\n",
    "    print(scores[i])"
   ]
  },
  {
   "cell_type": "code",
   "execution_count": 76,
   "metadata": {},
   "outputs": [
    {
     "name": "stdout",
     "output_type": "stream",
     "text": [
      "a=5.0 b=4.0\n",
      "ans=9.0\n"
     ]
    }
   ],
   "source": [
    "a , b = map(float, input().split())\n",
    "\n",
    "a = a**0.5\n",
    "b = b**0.5\n",
    "\n",
    "sum = a+b\n",
    "\n",
    "print(f'a={a} b={b}\\nans={sum}')\n"
   ]
  },
  {
   "cell_type": "code",
   "execution_count": 75,
   "metadata": {},
   "outputs": [
    {
     "name": "stdout",
     "output_type": "stream",
     "text": [
      "24.93\n"
     ]
    }
   ],
   "source": [
    "a,b=map(float,input().split())\n",
    "print(round(b/(a**2),2))"
   ]
  },
  {
   "cell_type": "code",
   "execution_count": 82,
   "metadata": {},
   "outputs": [
    {
     "ename": "TypeError",
     "evalue": "'float' object is not callable",
     "output_type": "error",
     "traceback": [
      "\u001b[1;31m---------------------------------------------------------------------------\u001b[0m",
      "\u001b[1;31mTypeError\u001b[0m                                 Traceback (most recent call last)",
      "Cell \u001b[1;32mIn[82], line 5\u001b[0m\n\u001b[0;32m      1\u001b[0m a \u001b[38;5;241m=\u001b[39m \u001b[38;5;28minput\u001b[39m()\n\u001b[0;32m      3\u001b[0m b \u001b[38;5;241m=\u001b[39m \u001b[38;5;28mmap\u001b[39m(\u001b[38;5;28mint\u001b[39m, a\u001b[38;5;241m.\u001b[39msplit())\n\u001b[1;32m----> 5\u001b[0m c \u001b[38;5;241m=\u001b[39m \u001b[38;5;28;43msum\u001b[39;49m\u001b[43m(\u001b[49m\u001b[43mb\u001b[49m\u001b[43m)\u001b[49m\n\u001b[0;32m      7\u001b[0m \u001b[38;5;28mprint\u001b[39m(c)\n",
      "\u001b[1;31mTypeError\u001b[0m: 'float' object is not callable"
     ]
    }
   ],
   "source": [
    "a = input()\n",
    "\n",
    "b = map(int, a.split())\n",
    "\n",
    "c = sum(b)\n",
    "\n",
    "print(c)\n"
   ]
  },
  {
   "cell_type": "code",
   "execution_count": 84,
   "metadata": {},
   "outputs": [
    {
     "name": "stdout",
     "output_type": "stream",
     "text": [
      "a=9 b=12\n",
      "a=12 b=9\n"
     ]
    }
   ],
   "source": [
    "a,b=map(int,input().split())\n",
    "print(f'a={a} b={b}')\n",
    "a,b=b,a\n",
    "print(f'a={a} b={b}')"
   ]
  },
  {
   "cell_type": "code",
   "execution_count": 87,
   "metadata": {},
   "outputs": [
    {
     "name": "stdout",
     "output_type": "stream",
     "text": [
      "45 23 12\n"
     ]
    }
   ],
   "source": [
    "a=input().split()\n",
    "stack = []\n",
    "for b in a:\n",
    "    stack.append(b)\n",
    "c = []\n",
    "while stack:\n",
    "    c.append(stack.pop())\n",
    "print(\" \".join(c))"
   ]
  },
  {
   "cell_type": "code",
   "execution_count": 88,
   "metadata": {},
   "outputs": [
    {
     "name": "stdout",
     "output_type": "stream",
     "text": [
      "0,1,2,3,4,5,6,7,8,9,"
     ]
    }
   ],
   "source": [
    "a = input(\"請輸入起始值、終止值和間隔值（用空格分隔）：\")\n",
    "start, end, step = map(int, a.split())\n",
    "\n",
    "for i in range(start, end, step):\n",
    "    print(i , end=\",\")"
   ]
  },
  {
   "cell_type": "code",
   "execution_count": 93,
   "metadata": {},
   "outputs": [
    {
     "name": "stdout",
     "output_type": "stream",
     "text": [
      "[1, 2, 3, 4, 5, 6, 7, 8, 9]\n"
     ]
    }
   ],
   "source": [
    "a = input(\"請輸入起始值、終止值和間隔值（用空格分隔）：\")\n",
    "start, end, step = map(int, a.split())\n",
    "\n",
    "number_list = list(range(start, end, step))\n",
    "\n",
    "print(number_list)"
   ]
  },
  {
   "cell_type": "code",
   "execution_count": null,
   "metadata": {},
   "outputs": [],
   "source": [
    "input_line = input()\n",
    "\n",
    "items = input_line.split()\n",
    "\n",
    "reversed_items = items[::-1]\n",
    "\n",
    "output_line = ' '.join(reversed_items)\n",
    "\n",
    "print(output_line)"
   ]
  }
 ],
 "metadata": {
  "kernelspec": {
   "display_name": "Python 3",
   "language": "python",
   "name": "python3"
  },
  "language_info": {
   "codemirror_mode": {
    "name": "ipython",
    "version": 3
   },
   "file_extension": ".py",
   "mimetype": "text/x-python",
   "name": "python",
   "nbconvert_exporter": "python",
   "pygments_lexer": "ipython3",
   "version": "3.12.4"
  }
 },
 "nbformat": 4,
 "nbformat_minor": 2
}
