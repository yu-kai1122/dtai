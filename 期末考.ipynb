{
 "cells": [
  {
   "cell_type": "code",
   "execution_count": 1,
   "metadata": {},
   "outputs": [
    {
     "name": "stdout",
     "output_type": "stream",
     "text": [
      "2.5\n"
     ]
    }
   ],
   "source": [
    "a = float(input(\"\"))\n",
    "b = float(input(\"\"))\n",
    "\n",
    "c = a % b\n",
    "\n",
    "print(c)"
   ]
  },
  {
   "cell_type": "code",
   "execution_count": 2,
   "metadata": {},
   "outputs": [
    {
     "name": "stdout",
     "output_type": "stream",
     "text": [
      "153,\n"
     ]
    }
   ],
   "source": [
    "a, b = map(int, input(\"\").split())\n",
    "\n",
    "c = []\n",
    "\n",
    "for i in range(a, b + 1):\n",
    "    if 100 <= i <= 999:\n",
    "        hundreds = i // 100\n",
    "        tens = (i // 10) % 10\n",
    "        ones = i % 10\n",
    "        sum_of_cubes = hundreds**3 + tens**3 + ones**3\n",
    "        if sum_of_cubes == i:\n",
    "            c.append(i)\n",
    "print(\",\".join(map(str, c)) + \",\")"
   ]
  },
  {
   "cell_type": "code",
   "execution_count": 3,
   "metadata": {},
   "outputs": [
    {
     "name": "stdout",
     "output_type": "stream",
     "text": [
      "t=2.0 b=5.0 h=4.8 area=16.8\n"
     ]
    }
   ],
   "source": [
    "t = float(input())\n",
    "b = float(input())\n",
    "h = float(input())\n",
    "\n",
    "area = (t + b) * h / 2\n",
    "\n",
    "print(f\"t={t} b={b} h={h} area={area}\")"
   ]
  },
  {
   "cell_type": "code",
   "execution_count": 4,
   "metadata": {},
   "outputs": [
    {
     "name": "stdout",
     "output_type": "stream",
     "text": [
      "park time:4h:29m\n",
      "pay:180 money\n"
     ]
    }
   ],
   "source": [
    "m = int(input(\"\"))\n",
    "\n",
    "h = m// 60\n",
    "minutes = m % 60\n",
    "\n",
    "if m<= 60:\n",
    "    p = 20\n",
    "else:\n",
    "    p = h * 40 + (20 if minutes > 0 else 0)\n",
    "\n",
    "if p > 300:\n",
    "    p = 300\n",
    "\n",
    "print(f\"park time:{h}h:{minutes}m\")\n",
    "print(f\"pay:{p} money\")"
   ]
  },
  {
   "cell_type": "code",
   "execution_count": 5,
   "metadata": {},
   "outputs": [
    {
     "name": "stdout",
     "output_type": "stream",
     "text": [
      "[3, 4, 5, 6, 7]\n"
     ]
    }
   ],
   "source": [
    "a = input(\"\")\n",
    "start, end, step = map(int, a.split())\n",
    "\n",
    "number_list = list(range(start, end, step))\n",
    "\n",
    "print(number_list)"
   ]
  },
  {
   "cell_type": "code",
   "execution_count": 6,
   "metadata": {},
   "outputs": [
    {
     "name": "stdout",
     "output_type": "stream",
     "text": [
      "2020 is leap year\n"
     ]
    }
   ],
   "source": [
    "year = int(input(\"\"))\n",
    "\n",
    "if (year % 4 == 0 and year % 100 != 0) or (year % 400 == 0):\n",
    "    print(year ,\"is leap year\")\n",
    "else:\n",
    "    print(year,\"is common year\")"
   ]
  },
  {
   "cell_type": "code",
   "execution_count": 7,
   "metadata": {},
   "outputs": [
    {
     "name": "stdout",
     "output_type": "stream",
     "text": [
      "120 is error\n"
     ]
    }
   ],
   "source": [
    "g =int(input(\"\"))\n",
    "if(90 <= g <= 100):\n",
    "    print(g,\"is A\")\n",
    "elif(80<= g <= 89):\n",
    "    print(g,\"is B\")\n",
    "elif(70 <= g <= 79):\n",
    "    print(g,'is C')\n",
    "elif(60 <= g <= 69):\n",
    "    print(g,'is D')\n",
    "elif(0<= g <= 59):\n",
    "    print(g,\"is E\")\n",
    "else:\n",
    "    print(g,\"is error\")"
   ]
  },
  {
   "cell_type": "code",
   "execution_count": 8,
   "metadata": {},
   "outputs": [
    {
     "name": "stdout",
     "output_type": "stream",
     "text": [
      "0,5,10,15,20,25,30,35,40,45,50,55,60,65,70,75,80,85,90,95,"
     ]
    }
   ],
   "source": [
    "a = input(\"\")\n",
    "start, end, step = map(int, a.split())\n",
    "\n",
    "for i in range(start, end, step):\n",
    "    print(i , end=\",\")"
   ]
  },
  {
   "cell_type": "code",
   "execution_count": 9,
   "metadata": {},
   "outputs": [
    {
     "name": "stdout",
     "output_type": "stream",
     "text": [
      "*\n",
      "**\n",
      "***\n",
      "****\n",
      "*****\n"
     ]
    }
   ],
   "source": [
    "n = int(input(\"\"))\n",
    "\n",
    "for i in range(1, n + 1):\n",
    "    print('*' * i)"
   ]
  },
  {
   "cell_type": "code",
   "execution_count": 10,
   "metadata": {},
   "outputs": [
    {
     "name": "stdout",
     "output_type": "stream",
     "text": [
      "1*1=1 1*2=2 1*3=3 1*4=4 1*5=5 1*6=6 1*7=7 1*8=8 1*9=9 \n",
      "2*1=2 2*2=4 2*3=6 2*4=8 2*5=10 2*6=12 2*7=14 2*8=16 2*9=18 \n",
      "3*1=3 3*2=6 3*3=9 3*4=12 3*5=15 3*6=18 3*7=21 3*8=24 3*9=27 \n",
      "4*1=4 4*2=8 4*3=12 4*4=16 4*5=20 4*6=24 4*7=28 4*8=32 4*9=36 \n",
      "5*1=5 5*2=10 5*3=15 5*4=20 5*5=25 5*6=30 5*7=35 5*8=40 5*9=45 \n",
      "6*1=6 6*2=12 6*3=18 6*4=24 6*5=30 6*6=36 6*7=42 6*8=48 6*9=54 \n",
      "7*1=7 7*2=14 7*3=21 7*4=28 7*5=35 7*6=42 7*7=49 7*8=56 7*9=63 \n",
      "8*1=8 8*2=16 8*3=24 8*4=32 8*5=40 8*6=48 8*7=56 8*8=64 8*9=72 \n",
      "9*1=9 9*2=18 9*3=27 9*4=36 9*5=45 9*6=54 9*7=63 9*8=72 9*9=81 \n"
     ]
    }
   ],
   "source": [
    "input_number = int(input(\"\"))\n",
    "\n",
    "for i in range(input_number, 10):\n",
    "    for j in range(1, 10):\n",
    "        print(f\"{i}*{j}={i*j}\", end=' ')\n",
    "    print()"
   ]
  },
  {
   "cell_type": "code",
   "execution_count": null,
   "metadata": {},
   "outputs": [],
   "source": []
  }
 ],
 "metadata": {
  "kernelspec": {
   "display_name": "Python 3",
   "language": "python",
   "name": "python3"
  },
  "language_info": {
   "codemirror_mode": {
    "name": "ipython",
    "version": 3
   },
   "file_extension": ".py",
   "mimetype": "text/x-python",
   "name": "python",
   "nbconvert_exporter": "python",
   "pygments_lexer": "ipython3",
   "version": "3.12.4"
  }
 },
 "nbformat": 4,
 "nbformat_minor": 2
}
